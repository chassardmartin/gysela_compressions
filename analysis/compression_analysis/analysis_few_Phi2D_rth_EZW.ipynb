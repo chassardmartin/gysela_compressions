{
 "cells": [
  {
   "cell_type": "code",
   "execution_count": 1,
   "metadata": {},
   "outputs": [],
   "source": [
    "import pandas as pd \n",
    "import numpy as np \n",
    "\n",
    "import json "
   ]
  },
  {
   "cell_type": "markdown",
   "metadata": {},
   "source": [
    "# A notebook to analyse the data generated from compression algorithms using (or not) wavelet-based tools "
   ]
  },
  {
   "cell_type": "code",
   "execution_count": 2,
   "metadata": {},
   "outputs": [],
   "source": [
    "to_analyse_file = \"files/2D_frtheta_4images.json\""
   ]
  },
  {
   "cell_type": "code",
   "execution_count": 3,
   "metadata": {},
   "outputs": [
    {
     "data": {
      "text/html": "<div>\n<style scoped>\n    .dataframe tbody tr th:only-of-type {\n        vertical-align: middle;\n    }\n\n    .dataframe tbody tr th {\n        vertical-align: top;\n    }\n\n    .dataframe thead th {\n        text-align: right;\n    }\n</style>\n<table border=\"1\" class=\"dataframe\">\n  <thead>\n    <tr style=\"text-align: right;\">\n      <th></th>\n      <th>image_name</th>\n      <th>compression_method</th>\n      <th>wavelet_used</th>\n      <th>parameter</th>\n      <th>compression_rate</th>\n      <th>metric_used</th>\n      <th>quality_value</th>\n      <th>compression_time</th>\n      <th>decompression_time</th>\n    </tr>\n  </thead>\n  <tbody>\n    <tr>\n      <th>0</th>\n      <td>lin_passing</td>\n      <td>wave_percent_deflate</td>\n      <td>bior4.4</td>\n      <td>0.2</td>\n      <td>3.477011</td>\n      <td>L2_error</td>\n      <td>0.004445</td>\n      <td>0.025056</td>\n      <td>0.004335</td>\n    </tr>\n    <tr>\n      <th>1</th>\n      <td>lin_passing</td>\n      <td>wave_percent_deflate</td>\n      <td>bior4.4</td>\n      <td>0.2</td>\n      <td>3.477011</td>\n      <td>L2_fourier_error</td>\n      <td>1.140171</td>\n      <td>0.025056</td>\n      <td>0.004335</td>\n    </tr>\n    <tr>\n      <th>2</th>\n      <td>lin_passing</td>\n      <td>wave_percent_deflate</td>\n      <td>bior4.4</td>\n      <td>0.2</td>\n      <td>3.477011</td>\n      <td>PSNR</td>\n      <td>22.517265</td>\n      <td>0.025056</td>\n      <td>0.004335</td>\n    </tr>\n    <tr>\n      <th>3</th>\n      <td>lin_passing</td>\n      <td>wave_percent_deflate</td>\n      <td>bior4.4</td>\n      <td>0.2</td>\n      <td>3.477011</td>\n      <td>fourier_PSNR</td>\n      <td>86.479552</td>\n      <td>0.025056</td>\n      <td>0.004335</td>\n    </tr>\n    <tr>\n      <th>4</th>\n      <td>lin_passing</td>\n      <td>wave_percent_deflate</td>\n      <td>bior4.4</td>\n      <td>0.3</td>\n      <td>2.551635</td>\n      <td>L2_error</td>\n      <td>0.001466</td>\n      <td>0.025208</td>\n      <td>0.004374</td>\n    </tr>\n  </tbody>\n</table>\n</div>",
      "text/plain": "    image_name    compression_method wavelet_used  parameter  \\\n0  lin_passing  wave_percent_deflate      bior4.4        0.2   \n1  lin_passing  wave_percent_deflate      bior4.4        0.2   \n2  lin_passing  wave_percent_deflate      bior4.4        0.2   \n3  lin_passing  wave_percent_deflate      bior4.4        0.2   \n4  lin_passing  wave_percent_deflate      bior4.4        0.3   \n\n   compression_rate       metric_used  quality_value  compression_time  \\\n0          3.477011          L2_error       0.004445          0.025056   \n1          3.477011  L2_fourier_error       1.140171          0.025056   \n2          3.477011              PSNR      22.517265          0.025056   \n3          3.477011      fourier_PSNR      86.479552          0.025056   \n4          2.551635          L2_error       0.001466          0.025208   \n\n   decompression_time  \n0            0.004335  \n1            0.004335  \n2            0.004335  \n3            0.004335  \n4            0.004374  "
     },
     "execution_count": 3,
     "metadata": {},
     "output_type": "execute_result"
    }
   ],
   "source": [
    "_data = pd.read_json(to_analyse_file)\n",
    "_data.head()"
   ]
  },
  {
   "cell_type": "code",
   "execution_count": 4,
   "metadata": {},
   "outputs": [
    {
     "data": {
      "text/plain": "Index(['image_name', 'compression_method', 'wavelet_used', 'parameter',\n       'compression_rate', 'metric_used', 'quality_value', 'compression_time',\n       'decompression_time'],\n      dtype='object')"
     },
     "execution_count": 4,
     "metadata": {},
     "output_type": "execute_result"
    }
   ],
   "source": [
    "_data.columns"
   ]
  },
  {
   "cell_type": "code",
   "execution_count": 5,
   "metadata": {},
   "outputs": [
    {
     "data": {
      "text/plain": "0              L2_error\n1      L2_fourier_error\n2                  PSNR\n3          fourier_PSNR\n4              L2_error\n             ...       \n139        fourier_PSNR\n140            L2_error\n141    L2_fourier_error\n142                PSNR\n143        fourier_PSNR\nName: metric_used, Length: 144, dtype: object"
     },
     "execution_count": 5,
     "metadata": {},
     "output_type": "execute_result"
    }
   ],
   "source": [
    "_data.metric_used"
   ]
  },
  {
   "cell_type": "code",
   "execution_count": 6,
   "metadata": {},
   "outputs": [
    {
     "name": "stdout",
     "output_type": "stream",
     "text": [
      "average compression rate for zfp 13.511111111100002\n",
      "for an average PSNR 30.498159819708334\n",
      "for an average fourier PSNR 93.98598526229166\n",
      "for an average compression time 0.0012741088833333333\n",
      "for an average decompression time 0.0019193490416666667\n"
     ]
    }
   ],
   "source": [
    "print(\"average compression rate for zfp\", \n",
    "_data.compression_rate.where(_data.compression_method == \"zfp\").mean()\n",
    ")\n",
    "\n",
    "print(\"for an average PSNR\", \n",
    "_data.quality_value.where(( _data.compression_method == \"zfp\") & (_data.metric_used == \"PSNR\")).mean() \n",
    ")\n",
    "\n",
    "print(\"for an average fourier PSNR\", \n",
    "_data.quality_value.where(( _data.compression_method == \"zfp\") & (_data.metric_used == \"fourier_PSNR\")).mean() \n",
    ")\n",
    "\n",
    "\n",
    "print(\"for an average compression time\", \n",
    "_data.compression_time.where(( _data.compression_method == \"zfp\")).mean() \n",
    ")\n",
    "\n",
    "\n",
    "print(\"for an average decompression time\", \n",
    "_data.decompression_time.where(( _data.compression_method == \"zfp\")).mean() \n",
    ")"
   ]
  },
  {
   "cell_type": "code",
   "execution_count": 7,
   "metadata": {},
   "outputs": [
    {
     "name": "stdout",
     "output_type": "stream",
     "text": [
      "average compression rate for wave_percent 2.672434760866667\n",
      "for an average PSNR 23.389507093116666\n",
      "for an average fourier PSNR 86.87733253570002\n",
      "for an average compression time 0.027597963808333337\n",
      "for an average decompression time 0.004653692241666667\n"
     ]
    }
   ],
   "source": [
    "print(\"average compression rate for wave_percent\", \n",
    "_data.compression_rate.where(_data.compression_method == \"wave_percent_deflate\").mean()\n",
    ")\n",
    "\n",
    "print(\"for an average PSNR\", \n",
    "_data.quality_value.where(( _data.compression_method == \"wave_percent_deflate\") & (_data.metric_used == \"PSNR\")).mean() \n",
    ")\n",
    "\n",
    "print(\"for an average fourier PSNR\", \n",
    "_data.quality_value.where(( _data.compression_method == \"wave_percent_deflate\") & (_data.metric_used == \"fourier_PSNR\")).mean() \n",
    ")\n",
    "\n",
    "print(\"for an average compression time\", \n",
    "_data.compression_time.where(( _data.compression_method == \"wave_percent_deflate\")).mean() \n",
    ")\n",
    "\n",
    "\n",
    "print(\"for an average decompression time\", \n",
    "_data.decompression_time.where(( _data.compression_method == \"wave_percent_deflate\")).mean() \n",
    ")"
   ]
  },
  {
   "cell_type": "code",
   "execution_count": 8,
   "metadata": {},
   "outputs": [
    {
     "name": "stdout",
     "output_type": "stream",
     "text": [
      "average compression rate for ezw 35.190510983450004\n",
      "for an average PSNR 29.33519105245\n",
      "for an average fourier PSNR 92.823016495025\n",
      "for an average compression time 1.623575488725\n",
      "for an average decompression time 0.99579811095\n"
     ]
    }
   ],
   "source": [
    "print(\"average compression rate for ezw\", \n",
    "_data.compression_rate.where((_data.compression_method == \"ezw\") & (_data.parameter == 25.0)).mean()\n",
    ")\n",
    "\n",
    "print(\"for an average PSNR\", \n",
    "_data.quality_value.where(( _data.compression_method == \"ezw\") & (_data.metric_used == \"PSNR\") & (_data.parameter == 25.0)).mean() \n",
    ")\n",
    "\n",
    "print(\"for an average fourier PSNR\", \n",
    "_data.quality_value.where(( _data.compression_method == \"ezw\") & (_data.metric_used == \"fourier_PSNR\") & (_data.parameter == 25.0)).mean() \n",
    ")\n",
    "\n",
    "print(\"for an average compression time\", \n",
    "_data.compression_time.where(( _data.compression_method == \"ezw\")).mean() \n",
    ")\n",
    "\n",
    "\n",
    "print(\"for an average decompression time\", \n",
    "_data.decompression_time.where(( _data.compression_method == \"ezw\") & (_data.parameter == 25.0)).mean() \n",
    ")"
   ]
  },
  {
   "cell_type": "code",
   "execution_count": 9,
   "metadata": {},
   "outputs": [
    {
     "data": {
      "text/plain": "15.0"
     },
     "execution_count": 9,
     "metadata": {},
     "output_type": "execute_result"
    }
   ],
   "source": [
    "_data.parameter.where(_data.compression_method == \"ezw\").min()"
   ]
  },
  {
   "cell_type": "code",
   "execution_count": 16,
   "metadata": {},
   "outputs": [
    {
     "data": {
      "text/plain": "24     15.0\n25     15.0\n26     15.0\n27     15.0\n28     20.0\n29     20.0\n30     20.0\n31     20.0\n32     25.0\n33     25.0\n34     25.0\n35     25.0\n60     15.0\n61     15.0\n62     15.0\n63     15.0\n64     20.0\n65     20.0\n66     20.0\n67     20.0\n68     25.0\n69     25.0\n70     25.0\n71     25.0\n96     15.0\n97     15.0\n98     15.0\n99     15.0\n100    20.0\n101    20.0\n102    20.0\n103    20.0\n104    25.0\n105    25.0\n106    25.0\n107    25.0\n132    15.0\n133    15.0\n134    15.0\n135    15.0\n136    20.0\n137    20.0\n138    20.0\n139    20.0\n140    25.0\n141    25.0\n142    25.0\n143    25.0\nName: parameter, dtype: float64"
     },
     "execution_count": 16,
     "metadata": {},
     "output_type": "execute_result"
    }
   ],
   "source": [
    "_data[_data.compression_method == \"ezw\"].parameter"
   ]
  },
  {
   "cell_type": "code",
   "execution_count": 17,
   "metadata": {},
   "outputs": [
    {
     "data": {
      "text/plain": "24     296.861816\n25     296.861816\n26     296.861816\n27     296.861816\n28     111.724899\n29     111.724899\n30     111.724899\n31     111.724899\n32      37.961486\n33      37.961486\n34      37.961486\n35      37.961486\n60     292.246530\n61     292.246530\n62     292.246530\n63     292.246530\n64     154.441315\n65     154.441315\n66     154.441315\n67     154.441315\n68      68.204743\n69      68.204743\n70      68.204743\n71      68.204743\n96     145.076075\n97     145.076075\n98     145.076075\n99     145.076075\n100     39.919302\n101     39.919302\n102     39.919302\n103     39.919302\n104     15.105499\n105     15.105499\n106     15.105499\n107     15.105499\n132    164.582864\n133    164.582864\n134    164.582864\n135    164.582864\n136     53.408016\n137     53.408016\n138     53.408016\n139     53.408016\n140     19.490317\n141     19.490317\n142     19.490317\n143     19.490317\nName: compression_rate, dtype: float64"
     },
     "execution_count": 17,
     "metadata": {},
     "output_type": "execute_result"
    }
   ],
   "source": [
    "_data[_data.compression_method == \"ezw\"].compression_rate"
   ]
  },
  {
   "cell_type": "code",
   "execution_count": 13,
   "metadata": {},
   "outputs": [
    {
     "data": {
      "text/plain": "24      0.009503\n25      2.437521\n26     19.217482\n27     83.179769\n28      0.003343\n29      0.857554\n30     23.754352\n31     87.716639\n32      0.000816\n33      0.209230\n34     29.880726\n35     93.843013\n60      0.004613\n61      1.183201\n62     19.695166\n63     82.978760\n64      0.001339\n65      0.343365\n66     25.068194\n67     88.351789\n68      0.000345\n69      0.088378\n70     30.962289\n71     94.245883\n96      0.018304\n97      4.695059\n98     16.410877\n99     80.155288\n100     0.006156\n101     1.579135\n102    21.143094\n103    84.887505\n104     0.001189\n105     0.304989\n106    28.284439\n107    92.028850\n132     0.008649\n133     2.218496\n134    16.831042\n135    79.792050\n136     0.002885\n137     0.739890\n138    21.599957\n139    84.560966\n140     0.000629\n141     0.161373\n142    28.213311\n143    91.174320\nName: quality_value, dtype: float64"
     },
     "execution_count": 13,
     "metadata": {},
     "output_type": "execute_result"
    }
   ],
   "source": [
    "_data[_data.compression_method == \"ezw\"].quality_value"
   ]
  },
  {
   "cell_type": "code",
   "execution_count": 14,
   "metadata": {},
   "outputs": [
    {
     "data": {
      "text/html": "<div>\n<style scoped>\n    .dataframe tbody tr th:only-of-type {\n        vertical-align: middle;\n    }\n\n    .dataframe tbody tr th {\n        vertical-align: top;\n    }\n\n    .dataframe thead th {\n        text-align: right;\n    }\n</style>\n<table border=\"1\" class=\"dataframe\">\n  <thead>\n    <tr style=\"text-align: right;\">\n      <th></th>\n      <th>image_name</th>\n      <th>compression_method</th>\n      <th>wavelet_used</th>\n      <th>parameter</th>\n      <th>compression_rate</th>\n      <th>metric_used</th>\n      <th>quality_value</th>\n      <th>compression_time</th>\n      <th>decompression_time</th>\n    </tr>\n  </thead>\n  <tbody>\n    <tr>\n      <th>0</th>\n      <td>lin_passing</td>\n      <td>wave_percent_deflate</td>\n      <td>bior4.4</td>\n      <td>0.2</td>\n      <td>3.477011</td>\n      <td>L2_error</td>\n      <td>0.004445</td>\n      <td>0.025056</td>\n      <td>0.004335</td>\n    </tr>\n    <tr>\n      <th>1</th>\n      <td>lin_passing</td>\n      <td>wave_percent_deflate</td>\n      <td>bior4.4</td>\n      <td>0.2</td>\n      <td>3.477011</td>\n      <td>L2_fourier_error</td>\n      <td>1.140171</td>\n      <td>0.025056</td>\n      <td>0.004335</td>\n    </tr>\n    <tr>\n      <th>2</th>\n      <td>lin_passing</td>\n      <td>wave_percent_deflate</td>\n      <td>bior4.4</td>\n      <td>0.2</td>\n      <td>3.477011</td>\n      <td>PSNR</td>\n      <td>22.517265</td>\n      <td>0.025056</td>\n      <td>0.004335</td>\n    </tr>\n    <tr>\n      <th>3</th>\n      <td>lin_passing</td>\n      <td>wave_percent_deflate</td>\n      <td>bior4.4</td>\n      <td>0.2</td>\n      <td>3.477011</td>\n      <td>fourier_PSNR</td>\n      <td>86.479552</td>\n      <td>0.025056</td>\n      <td>0.004335</td>\n    </tr>\n    <tr>\n      <th>4</th>\n      <td>lin_passing</td>\n      <td>wave_percent_deflate</td>\n      <td>bior4.4</td>\n      <td>0.3</td>\n      <td>2.551635</td>\n      <td>L2_error</td>\n      <td>0.001466</td>\n      <td>0.025208</td>\n      <td>0.004374</td>\n    </tr>\n    <tr>\n      <th>...</th>\n      <td>...</td>\n      <td>...</td>\n      <td>...</td>\n      <td>...</td>\n      <td>...</td>\n      <td>...</td>\n      <td>...</td>\n      <td>...</td>\n      <td>...</td>\n    </tr>\n    <tr>\n      <th>139</th>\n      <td>turb_trapped</td>\n      <td>ezw</td>\n      <td>bior4.4</td>\n      <td>20.0</td>\n      <td>53.408016</td>\n      <td>fourier_PSNR</td>\n      <td>84.560966</td>\n      <td>2.129244</td>\n      <td>0.995634</td>\n    </tr>\n    <tr>\n      <th>140</th>\n      <td>turb_trapped</td>\n      <td>ezw</td>\n      <td>bior4.4</td>\n      <td>25.0</td>\n      <td>19.490317</td>\n      <td>L2_error</td>\n      <td>0.000629</td>\n      <td>1.835477</td>\n      <td>0.996414</td>\n    </tr>\n    <tr>\n      <th>141</th>\n      <td>turb_trapped</td>\n      <td>ezw</td>\n      <td>bior4.4</td>\n      <td>25.0</td>\n      <td>19.490317</td>\n      <td>L2_fourier_error</td>\n      <td>0.161373</td>\n      <td>1.835477</td>\n      <td>0.996414</td>\n    </tr>\n    <tr>\n      <th>142</th>\n      <td>turb_trapped</td>\n      <td>ezw</td>\n      <td>bior4.4</td>\n      <td>25.0</td>\n      <td>19.490317</td>\n      <td>PSNR</td>\n      <td>28.213311</td>\n      <td>1.835477</td>\n      <td>0.996414</td>\n    </tr>\n    <tr>\n      <th>143</th>\n      <td>turb_trapped</td>\n      <td>ezw</td>\n      <td>bior4.4</td>\n      <td>25.0</td>\n      <td>19.490317</td>\n      <td>fourier_PSNR</td>\n      <td>91.174320</td>\n      <td>1.835477</td>\n      <td>0.996414</td>\n    </tr>\n  </tbody>\n</table>\n<p>144 rows × 9 columns</p>\n</div>",
      "text/plain": "       image_name    compression_method wavelet_used  parameter  \\\n0     lin_passing  wave_percent_deflate      bior4.4        0.2   \n1     lin_passing  wave_percent_deflate      bior4.4        0.2   \n2     lin_passing  wave_percent_deflate      bior4.4        0.2   \n3     lin_passing  wave_percent_deflate      bior4.4        0.2   \n4     lin_passing  wave_percent_deflate      bior4.4        0.3   \n..            ...                   ...          ...        ...   \n139  turb_trapped                   ezw      bior4.4       20.0   \n140  turb_trapped                   ezw      bior4.4       25.0   \n141  turb_trapped                   ezw      bior4.4       25.0   \n142  turb_trapped                   ezw      bior4.4       25.0   \n143  turb_trapped                   ezw      bior4.4       25.0   \n\n     compression_rate       metric_used  quality_value  compression_time  \\\n0            3.477011          L2_error       0.004445          0.025056   \n1            3.477011  L2_fourier_error       1.140171          0.025056   \n2            3.477011              PSNR      22.517265          0.025056   \n3            3.477011      fourier_PSNR      86.479552          0.025056   \n4            2.551635          L2_error       0.001466          0.025208   \n..                ...               ...            ...               ...   \n139         53.408016      fourier_PSNR      84.560966          2.129244   \n140         19.490317          L2_error       0.000629          1.835477   \n141         19.490317  L2_fourier_error       0.161373          1.835477   \n142         19.490317              PSNR      28.213311          1.835477   \n143         19.490317      fourier_PSNR      91.174320          1.835477   \n\n     decompression_time  \n0              0.004335  \n1              0.004335  \n2              0.004335  \n3              0.004335  \n4              0.004374  \n..                  ...  \n139            0.995634  \n140            0.996414  \n141            0.996414  \n142            0.996414  \n143            0.996414  \n\n[144 rows x 9 columns]"
     },
     "execution_count": 14,
     "metadata": {},
     "output_type": "execute_result"
    }
   ],
   "source": [
    "_data"
   ]
  },
  {
   "cell_type": "code",
   "execution_count": null,
   "metadata": {},
   "outputs": [],
   "source": []
  }
 ],
 "metadata": {
  "kernelspec": {
   "display_name": "Python 3.8.10 64-bit",
   "name": "python3810jvsc74a57bd031f2aee4e71d21fbe5cf8b01ff0e069b9275f58929596ceb00d14d90e3e16cd6"
  },
  "language_info": {
   "codemirror_mode": {
    "name": "ipython",
    "version": 3
   },
   "file_extension": ".py",
   "mimetype": "text/x-python",
   "name": "python",
   "nbconvert_exporter": "python",
   "pygments_lexer": "ipython3",
   "version": "3.8.10"
  },
  "metadata": {
   "interpreter": {
    "hash": "31f2aee4e71d21fbe5cf8b01ff0e069b9275f58929596ceb00d14d90e3e16cd6"
   }
  },
  "orig_nbformat": 3
 },
 "nbformat": 4,
 "nbformat_minor": 2
}