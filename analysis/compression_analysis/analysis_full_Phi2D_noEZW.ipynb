{
 "cells": [
  {
   "cell_type": "code",
   "execution_count": 1,
   "metadata": {},
   "outputs": [],
   "source": [
    "import numpy as np \n",
    "import pandas as pd\n"
   ]
  },
  {
   "cell_type": "markdown",
   "metadata": {},
   "source": [
    "# A notebook to analyse the results in terms of quality without EZW on the full Phi2D dataset "
   ]
  },
  {
   "cell_type": "code",
   "execution_count": 2,
   "metadata": {},
   "outputs": [],
   "source": [
    "to_analyse = \"files/all_Phi2D_rth_noEZW.json\""
   ]
  },
  {
   "cell_type": "code",
   "execution_count": 3,
   "metadata": {},
   "outputs": [],
   "source": [
    "_data = pd.read_json(to_analyse) "
   ]
  },
  {
   "cell_type": "code",
   "execution_count": 8,
   "metadata": {},
   "outputs": [
    {
     "data": {
      "text/html": "<div>\n<style scoped>\n    .dataframe tbody tr th:only-of-type {\n        vertical-align: middle;\n    }\n\n    .dataframe tbody tr th {\n        vertical-align: top;\n    }\n\n    .dataframe thead th {\n        text-align: right;\n    }\n</style>\n<table border=\"1\" class=\"dataframe\">\n  <thead>\n    <tr style=\"text-align: right;\">\n      <th></th>\n      <th>image_name</th>\n      <th>compression_method</th>\n      <th>wavelet_used</th>\n      <th>parameter</th>\n      <th>compression_rate</th>\n      <th>metric_used</th>\n      <th>quality_value</th>\n      <th>compression_time</th>\n      <th>decompression_time</th>\n    </tr>\n  </thead>\n  <tbody>\n    <tr>\n      <th>0</th>\n      <td>Phi2D_d01001</td>\n      <td>wave_percent_deflate</td>\n      <td>bior4.4</td>\n      <td>0.2</td>\n      <td>3.863661</td>\n      <td>L2_error</td>\n      <td>5.850828</td>\n      <td>0.118373</td>\n      <td>0.019921</td>\n    </tr>\n    <tr>\n      <th>1</th>\n      <td>Phi2D_d01001</td>\n      <td>wave_percent_deflate</td>\n      <td>bior4.4</td>\n      <td>0.2</td>\n      <td>3.863661</td>\n      <td>L2_fourier_error</td>\n      <td>2998.547804</td>\n      <td>0.118373</td>\n      <td>0.019921</td>\n    </tr>\n    <tr>\n      <th>2</th>\n      <td>Phi2D_d01001</td>\n      <td>wave_percent_deflate</td>\n      <td>bior4.4</td>\n      <td>0.2</td>\n      <td>3.863661</td>\n      <td>PSNR</td>\n      <td>50.195595</td>\n      <td>0.118373</td>\n      <td>0.019921</td>\n    </tr>\n    <tr>\n      <th>3</th>\n      <td>Phi2D_d01001</td>\n      <td>wave_percent_deflate</td>\n      <td>bior4.4</td>\n      <td>0.2</td>\n      <td>3.863661</td>\n      <td>fourier_PSNR</td>\n      <td>123.270567</td>\n      <td>0.118373</td>\n      <td>0.019921</td>\n    </tr>\n    <tr>\n      <th>4</th>\n      <td>Phi2D_d01001</td>\n      <td>wave_percent_deflate</td>\n      <td>bior4.4</td>\n      <td>0.3</td>\n      <td>2.776402</td>\n      <td>L2_error</td>\n      <td>2.156209</td>\n      <td>0.147294</td>\n      <td>0.018755</td>\n    </tr>\n  </tbody>\n</table>\n</div>",
      "text/plain": "     image_name    compression_method wavelet_used  parameter  \\\n0  Phi2D_d01001  wave_percent_deflate      bior4.4        0.2   \n1  Phi2D_d01001  wave_percent_deflate      bior4.4        0.2   \n2  Phi2D_d01001  wave_percent_deflate      bior4.4        0.2   \n3  Phi2D_d01001  wave_percent_deflate      bior4.4        0.2   \n4  Phi2D_d01001  wave_percent_deflate      bior4.4        0.3   \n\n   compression_rate       metric_used  quality_value  compression_time  \\\n0          3.863661          L2_error       5.850828          0.118373   \n1          3.863661  L2_fourier_error    2998.547804          0.118373   \n2          3.863661              PSNR      50.195595          0.118373   \n3          3.863661      fourier_PSNR     123.270567          0.118373   \n4          2.776402          L2_error       2.156209          0.147294   \n\n   decompression_time  \n0            0.019921  \n1            0.019921  \n2            0.019921  \n3            0.019921  \n4            0.018755  "
     },
     "execution_count": 8,
     "metadata": {},
     "output_type": "execute_result"
    }
   ],
   "source": [
    "_data.head() "
   ]
  },
  {
   "cell_type": "code",
   "execution_count": 11,
   "metadata": {},
   "outputs": [
    {
     "data": {
      "text/html": "<div>\n<style scoped>\n    .dataframe tbody tr th:only-of-type {\n        vertical-align: middle;\n    }\n\n    .dataframe tbody tr th {\n        vertical-align: top;\n    }\n\n    .dataframe thead th {\n        text-align: right;\n    }\n</style>\n<table border=\"1\" class=\"dataframe\">\n  <thead>\n    <tr style=\"text-align: right;\">\n      <th></th>\n      <th>image_name</th>\n      <th>compression_method</th>\n      <th>wavelet_used</th>\n      <th>parameter</th>\n      <th>compression_rate</th>\n      <th>metric_used</th>\n      <th>quality_value</th>\n      <th>compression_time</th>\n      <th>decompression_time</th>\n    </tr>\n  </thead>\n  <tbody>\n    <tr>\n      <th>28795</th>\n      <td>Phi2D_d00073</td>\n      <td>zfp</td>\n      <td>None</td>\n      <td>5.0</td>\n      <td>12.8</td>\n      <td>fourier_PSNR</td>\n      <td>145.563068</td>\n      <td>0.003998</td>\n      <td>0.006711</td>\n    </tr>\n    <tr>\n      <th>28796</th>\n      <td>Phi2D_d00073</td>\n      <td>zfp</td>\n      <td>None</td>\n      <td>10.0</td>\n      <td>6.4</td>\n      <td>L2_error</td>\n      <td>0.001292</td>\n      <td>0.005596</td>\n      <td>0.010787</td>\n    </tr>\n    <tr>\n      <th>28797</th>\n      <td>Phi2D_d00073</td>\n      <td>zfp</td>\n      <td>None</td>\n      <td>10.0</td>\n      <td>6.4</td>\n      <td>L2_fourier_error</td>\n      <td>0.662006</td>\n      <td>0.005596</td>\n      <td>0.010787</td>\n    </tr>\n    <tr>\n      <th>28798</th>\n      <td>Phi2D_d00073</td>\n      <td>zfp</td>\n      <td>None</td>\n      <td>10.0</td>\n      <td>6.4</td>\n      <td>PSNR</td>\n      <td>91.306296</td>\n      <td>0.005596</td>\n      <td>0.010787</td>\n    </tr>\n    <tr>\n      <th>28799</th>\n      <td>Phi2D_d00073</td>\n      <td>zfp</td>\n      <td>None</td>\n      <td>10.0</td>\n      <td>6.4</td>\n      <td>fourier_PSNR</td>\n      <td>165.921546</td>\n      <td>0.005596</td>\n      <td>0.010787</td>\n    </tr>\n  </tbody>\n</table>\n</div>",
      "text/plain": "         image_name compression_method wavelet_used  parameter  \\\n28795  Phi2D_d00073                zfp         None        5.0   \n28796  Phi2D_d00073                zfp         None       10.0   \n28797  Phi2D_d00073                zfp         None       10.0   \n28798  Phi2D_d00073                zfp         None       10.0   \n28799  Phi2D_d00073                zfp         None       10.0   \n\n       compression_rate       metric_used  quality_value  compression_time  \\\n28795              12.8      fourier_PSNR     145.563068          0.003998   \n28796               6.4          L2_error       0.001292          0.005596   \n28797               6.4  L2_fourier_error       0.662006          0.005596   \n28798               6.4              PSNR      91.306296          0.005596   \n28799               6.4      fourier_PSNR     165.921546          0.005596   \n\n       decompression_time  \n28795            0.006711  \n28796            0.010787  \n28797            0.010787  \n28798            0.010787  \n28799            0.010787  "
     },
     "execution_count": 11,
     "metadata": {},
     "output_type": "execute_result"
    }
   ],
   "source": [
    "_data.tail()"
   ]
  },
  {
   "cell_type": "code",
   "execution_count": null,
   "metadata": {},
   "outputs": [],
   "source": []
  },
  {
   "cell_type": "code",
   "execution_count": 4,
   "metadata": {},
   "outputs": [
    {
     "data": {
      "text/plain": "Index(['image_name', 'compression_method', 'wavelet_used', 'parameter',\n       'compression_rate', 'metric_used', 'quality_value', 'compression_time',\n       'decompression_time'],\n      dtype='object')"
     },
     "execution_count": 4,
     "metadata": {},
     "output_type": "execute_result"
    }
   ],
   "source": [
    "_data.columns   "
   ]
  },
  {
   "cell_type": "code",
   "execution_count": 5,
   "metadata": {},
   "outputs": [
    {
     "data": {
      "text/plain": "0                L2_error\n1        L2_fourier_error\n2                    PSNR\n3            fourier_PSNR\n4                L2_error\n               ...       \n28795        fourier_PSNR\n28796            L2_error\n28797    L2_fourier_error\n28798                PSNR\n28799        fourier_PSNR\nName: metric_used, Length: 28800, dtype: object"
     },
     "execution_count": 5,
     "metadata": {},
     "output_type": "execute_result"
    }
   ],
   "source": [
    "_data.metric_used"
   ]
  },
  {
   "cell_type": "code",
   "execution_count": 6,
   "metadata": {},
   "outputs": [
    {
     "data": {
      "text/plain": "0         NaN\n1         NaN\n2         NaN\n3         NaN\n4         NaN\n         ... \n28795     5.0\n28796    10.0\n28797    10.0\n28798    10.0\n28799    10.0\nName: parameter, Length: 28800, dtype: float64"
     },
     "execution_count": 6,
     "metadata": {},
     "output_type": "execute_result"
    }
   ],
   "source": [
    "_data.parameter.where(_data.compression_method == \"zfp\")"
   ]
  },
  {
   "cell_type": "code",
   "execution_count": 7,
   "metadata": {},
   "outputs": [
    {
     "data": {
      "text/plain": "0              NaN\n1              NaN\n2              NaN\n3              NaN\n4              NaN\n           ...    \n28795          NaN\n28796          NaN\n28797          NaN\n28798    91.306296\n28799          NaN\nName: quality_value, Length: 28800, dtype: float64"
     },
     "execution_count": 7,
     "metadata": {},
     "output_type": "execute_result"
    }
   ],
   "source": [
    "_data.quality_value.where((_data.compression_method == \"zfp\") & (_data.metric_used == \"PSNR\"))"
   ]
  },
  {
   "cell_type": "code",
   "execution_count": 9,
   "metadata": {},
   "outputs": [
    {
     "name": "stdout",
     "output_type": "stream",
     "text": [
      "average compression rate for zfp 13.511111111100004\n",
      "for an average PSNR 73.7518010353925\n",
      "for an average fourier PSNR 148.3718621519883\n"
     ]
    }
   ],
   "source": [
    "print(\"average compression rate for zfp\", \n",
    "_data.compression_rate.where(_data.compression_method == \"zfp\").mean()\n",
    ")\n",
    "\n",
    "print(\"for an average PSNR\", \n",
    "_data.quality_value.where(( _data.compression_method == \"zfp\") & (_data.metric_used == \"PSNR\")).mean() \n",
    ")\n",
    "\n",
    "print(\"for an average fourier PSNR\", \n",
    "_data.quality_value.where(( _data.compression_method == \"zfp\") & (_data.metric_used == \"fourier_PSNR\")).mean() \n",
    ")"
   ]
  },
  {
   "cell_type": "code",
   "execution_count": 14,
   "metadata": {},
   "outputs": [
    {
     "name": "stdout",
     "output_type": "stream",
     "text": [
      "average compression rate for wave_percent 2.991555443331833\n",
      "for an average PSNR 58.042079795517395\n",
      "for an average fourier PSNR 132.66214091211384\n"
     ]
    }
   ],
   "source": [
    "print(\"average compression rate for wave_percent\", \n",
    "_data.compression_rate.where(_data.compression_method == \"wave_percent_deflate\").mean()\n",
    ")\n",
    "\n",
    "print(\"for an average PSNR\", \n",
    "_data.quality_value.where(( _data.compression_method == \"wave_percent_deflate\") & (_data.metric_used == \"PSNR\")).mean() \n",
    ")\n",
    "\n",
    "print(\"for an average fourier PSNR\", \n",
    "_data.quality_value.where(( _data.compression_method == \"wave_percent_deflate\") & (_data.metric_used == \"fourier_PSNR\")).mean() \n",
    ")"
   ]
  },
  {
   "cell_type": "code",
   "execution_count": null,
   "metadata": {},
   "outputs": [],
   "source": []
  }
 ],
 "metadata": {
  "kernelspec": {
   "display_name": "Python 3.8.10 64-bit",
   "name": "python3810jvsc74a57bd031f2aee4e71d21fbe5cf8b01ff0e069b9275f58929596ceb00d14d90e3e16cd6"
  },
  "language_info": {
   "codemirror_mode": {
    "name": "ipython",
    "version": 3
   },
   "file_extension": ".py",
   "mimetype": "text/x-python",
   "name": "python",
   "nbconvert_exporter": "python",
   "pygments_lexer": "ipython3",
   "version": "3.8.10"
  },
  "metadata": {
   "interpreter": {
    "hash": "31f2aee4e71d21fbe5cf8b01ff0e069b9275f58929596ceb00d14d90e3e16cd6"
   }
  },
  "orig_nbformat": 2
 },
 "nbformat": 4,
 "nbformat_minor": 2
}